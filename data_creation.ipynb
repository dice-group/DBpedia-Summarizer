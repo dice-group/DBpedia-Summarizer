{
 "cells": [
  {
   "cell_type": "code",
   "execution_count": null,
   "metadata": {},
   "outputs": [],
   "source": [
    "import re\n",
    "import pandas as pd"
   ]
  },
  {
   "cell_type": "code",
   "execution_count": null,
   "metadata": {},
   "outputs": [],
   "source": [
    "# language in ISO 639‑1 code\n",
    "# both abstracts and short absctracts should be in this language\n",
    "lang = 'en' # 'en', 'nl', 'fr'\n",
    "\n",
    "# path for processing original data and saving dataframe in the data folder\n",
    "abstracts_pathfile = '/full_abstracts/abstracts_' + lang + '.ttl' # check the name of file!\n",
    "short_abstracts_pathfile = '/short_abstracts/short_abstracts_' + lang + '.ttl' # check the name of file!\n",
    "output_path = '/data/data_' + lang + '.csv' # path for saving final dataframe"
   ]
  },
  {
   "cell_type": "markdown",
   "metadata": {},
   "source": [
    "## Dataframe generation"
   ]
  },
  {
   "cell_type": "code",
   "execution_count": null,
   "metadata": {},
   "outputs": [],
   "source": [
    "# reading short abstracts and urls for future concatenation\n",
    "# download original files — https://databus.dbpedia.org/dbpedia/text/short-abstracts/\n",
    "\n",
    "short_abstracts = []\n",
    "short_urls = []\n",
    "\n",
    "with open(short_abstracts_pathfile) as file:\n",
    "    for string in file:\n",
    "        try:\n",
    "            string = string[len(' <http://nl.dbpedia.org/resource/')-1:]\n",
    "            text = re.findall('.*> <http://www.w3.org/2000/01/rdf-schema#comment>', string)[0][:-len('> <http://www.w3.org/2000/01/rdf-schema#comment>')]\n",
    "            short_urls.append(str(text))\n",
    "            short_abstracts.append(re.findall('\".*\"', string)[0][1:-1])\n",
    "        except:\n",
    "            continue\n",
    "\n",
    "if len(short_abstracts) == len(short_urls):\n",
    "    print('Done! Number of abstracts is %i ans number of urls is %i'%(len(short_abstracts), len(short_urls)))\n",
    "\n",
    "# dataframe with urls and short abstracts\n",
    "data = {'url': short_urls, 'short_abstract': short_abstracts}\n",
    "df_shorts = pd.DataFrame(data=data)"
   ]
  },
  {
   "cell_type": "code",
   "execution_count": null,
   "metadata": {},
   "outputs": [],
   "source": [
    "# reading abstracts and urls for future concatenation\n",
    "# download original files — http://downloads.dbpedia.org/2015-04/ext/nlp/abstracts/\n",
    "\n",
    "abstracts = []\n",
    "urls = []\n",
    "\n",
    "with open(abstracts_pathfile) as file:\n",
    "    for string in file:\n",
    "        if 'nif:isString' in string:\n",
    "            start = len('nif:isString \"\"\" ')\n",
    "            finish = len('     ^^xsd:string')\n",
    "            abstracts.append(string[start:-finish])\n",
    "        \n",
    "        if 'nif:sourceUrl' in string:\n",
    "            start = len('nif:sourceUrl <http://nl.wikipedia.org/wiki/ ')\n",
    "            finish = len('> . ')\n",
    "            text = string[start:-finish]\n",
    "            urls.append(str(text))\n",
    "\n",
    "if len(abstracts) == len(urls):\n",
    "    print('Done! Number of abstracts is %i ans number of urls is %i'%(len(abstracts), len(urls)))\n",
    "\n",
    "# dataframe with urls and abstracts\n",
    "data = {'url': urls, 'abstract': abstracts}\n",
    "df_abstracts = pd.DataFrame(data=data)"
   ]
  },
  {
   "cell_type": "code",
   "execution_count": null,
   "metadata": {},
   "outputs": [],
   "source": [
    "# merging of abstracts and short abstracts base on urls\n",
    "final_df = df_abstracts.merge(df_shorts, on='url')\n",
    "\n",
    "# saving dataframe in .csv\n",
    "final_df.to_csv(output_path)"
   ]
  }
 ],
 "metadata": {
  "kernelspec": {
   "display_name": "Python 3.10.2 64-bit",
   "language": "python",
   "name": "python3"
  },
  "language_info": {
   "name": "python",
   "version": "3.10.2"
  },
  "orig_nbformat": 4,
  "vscode": {
   "interpreter": {
    "hash": "aee8b7b246df8f9039afb4144a1f6fd8d2ca17a180786b69acc140d282b71a49"
   }
  }
 },
 "nbformat": 4,
 "nbformat_minor": 2
}
